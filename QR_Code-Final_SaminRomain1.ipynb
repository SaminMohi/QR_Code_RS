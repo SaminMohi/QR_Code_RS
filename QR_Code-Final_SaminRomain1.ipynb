{
 "cells": [
  {
   "cell_type": "code",
   "execution_count": 11,
   "metadata": {},
   "outputs": [],
   "source": [
    "from PIL import Image, ImageDraw"
   ]
  },
  {
   "cell_type": "code",
   "execution_count": 30,
   "metadata": {},
   "outputs": [],
   "source": [
    "def QRCode(img):\n",
    "    \"\"\"\n",
    "    Fonction pour crée notre QR code avec les 3 carrés\n",
    "    \"\"\"\n",
    "    couleur = (255,255,255)\n",
    "    dimensions = (21,21)\n",
    "    img = Image.new(\"RGB\",dimensions , couleur)\n",
    "    draw = ImageDraw.Draw(img)\n",
    "    #1er carré, en haute à gauche\n",
    "    draw.rectangle(((0,0),(6,6)), fill=(0,0,0))   #d'abord on fait un carré et on rempli en noir\n",
    "    draw.rectangle(((1,1),(5,5,)), fill=(255,255,255)) #ensuite on faite un carré blanc\n",
    "    draw.rectangle(((2,2),(4,4)), fill=(0,0,0))   #ensuite le dernier carré noir\n",
    "    #2ème carré en haute à droite\n",
    "    draw.rectangle(((20,0),(14,6)), fill=(0,0,0))\n",
    "    draw.rectangle(((19,1),(15,5,)), fill=(255,255,255))\n",
    "    draw.rectangle(((18,2),(16,4)), fill=(0,0,0))\n",
    "    #3ème carré en bas à gauche\n",
    "    draw.rectangle(((0,20),(6,14)), fill=(0,0,0))\n",
    "    draw.rectangle(((1,19),(5,15,)), fill=(255,255,255))\n",
    "    draw.rectangle(((2,18),(4,16)), fill=(0,0,0))"
   ]
  },
  {
   "cell_type": "code",
   "execution_count": 2,
   "metadata": {},
   "outputs": [],
   "source": [
    "#1er code pour faire le QR code, juste en ajoutant les 3 carrés:\n",
    "couleur = (255,255,255)\n",
    "dimensions = (21,21)\n",
    "img = Image.new(\"RGB\",dimensions , couleur)\n",
    "draw = ImageDraw.Draw(img)\n",
    "#1er carré, en haute à gauche\n",
    "draw.rectangle(((0,0),(6,6)), fill=(0,0,0))   #d'abord on fait un carré et on rempli en noir\n",
    "draw.rectangle(((1,1),(5,5,)), fill=(255,255,255)) #ensuite on faite un carré blanc\n",
    "draw.rectangle(((2,2),(4,4)), fill=(0,0,0))   #ensuite le dernier carré noir\n",
    "#2ème carré en haute à droite\n",
    "draw.rectangle(((20,0),(14,6)), fill=(0,0,0))\n",
    "draw.rectangle(((19,1),(15,5,)), fill=(255,255,255))\n",
    "draw.rectangle(((18,2),(16,4)), fill=(0,0,0))\n",
    "#3ème carré en bas à gauche\n",
    "draw.rectangle(((0,20),(6,14)), fill=(0,0,0))\n",
    "draw.rectangle(((1,19),(5,15,)), fill=(255,255,255))\n",
    "draw.rectangle(((2,18),(4,16)), fill=(0,0,0))\n",
    "img.show()"
   ]
  },
  {
   "cell_type": "code",
   "execution_count": 17,
   "metadata": {},
   "outputs": [],
   "source": [
    "#Hseg et Vseg fait à l'étape 1\n",
    "def Hseg(img,ligne, colstart = None , colend = None, color = (255,255,255)):\n",
    "    \"\"\"\n",
    "    Fonction pour les lignes horizontales\n",
    "    \"\"\"\n",
    "    #img, l'image qu'on veut modifier\n",
    "    #ligne, la hauteur \n",
    "    #colstart, colend ; de où à où\n",
    "    #quand on les spécifie pas, en mettant \"None\", ça veut dire ça continue jusqu'à la fin de l'image  \n",
    "    larg, haut = img.size \n",
    "    if colstart == None:\n",
    "        colstart = 0         #si on imagine une image de taille 10x10, ça commence à 0 (le colstart)\n",
    "    if colend == None:\n",
    "        colend = larg     # et ici colend = 10, alors que la dernère coordonnée c'est (9,9)\n",
    "    for x in range(colstart, colend): #ça ne pose pas de problèmes car la fonction range n'inclut pas le dernier élément \n",
    "        img.putpixel((x, ligne), color)"
   ]
  },
  {
   "cell_type": "code",
   "execution_count": 18,
   "metadata": {},
   "outputs": [],
   "source": [
    "def Vseg(img,colonne, lignestart = None , ligneend = None, color = (255,255,255)):\n",
    "    \"\"\"\n",
    "    Fonction pour les lignes verticales\n",
    "    \"\"\"\n",
    "    larg, haut = img.size \n",
    "    if lignestart == None:\n",
    "        lignestart = 0\n",
    "    if ligneend == None:\n",
    "        ligneend = larg\n",
    "    for x in range(lignestart, ligneend):\n",
    "        img.putpixel((colonne, x), color)"
   ]
  },
  {
   "cell_type": "code",
   "execution_count": 19,
   "metadata": {},
   "outputs": [],
   "source": [
    "#avec les fonctions Hseg et Vseg, on peut créer la fonction separatorMdl pour placer les modules séparateurs\n",
    "def separatorMdl(img):\n",
    "    \"\"\"\n",
    "    Fonction pour les séparateurs\n",
    "    \"\"\"\n",
    "    #séparateur du carré en haut à gauche.\n",
    "    Hseg(img,7,0,8)\n",
    "    Vseg(img,7,0,8)\n",
    "    #séprateur du carré en haut à droite    \n",
    "    Hseg(img,7,13,21)\n",
    "    Vseg(img,13,0,8) \n",
    "    #séprateur du carré en bas à gauche    \n",
    "    Hseg(img,13,0,8)\n",
    "    Vseg(img,7,13,21)"
   ]
  },
  {
   "cell_type": "code",
   "execution_count": 20,
   "metadata": {},
   "outputs": [],
   "source": [
    "\n",
    "def timingMdl(img):\n",
    "    \"\"\"\n",
    "    Fonction pour les modules de cadencement\n",
    "    \"\"\"\n",
    "    #segment horizontale\n",
    "    img.putpixel((8,6), (0,0,0))\n",
    "    img.putpixel((9,6), (255,255,255))\n",
    "    img.putpixel((10,6), (0,0,0))\n",
    "    img.putpixel((11,6), (255,255,255))\n",
    "    img.putpixel((12,6), (0,0,0))\n",
    "    #segment verticale\n",
    "    img.putpixel((6,8), (0,0,0))\n",
    "    img.putpixel((6,9), (255,255,255))\n",
    "    img.putpixel((6,10), (0,0,0))\n",
    "    img.putpixel((6,11), (255,255,255))\n",
    "    img.putpixel((6,12), (0,0,0))\n",
    "    "
   ]
  },
  {
   "cell_type": "markdown",
   "metadata": {},
   "source": []
  },
  {
   "cell_type": "code",
   "execution_count": 27,
   "metadata": {},
   "outputs": [],
   "source": [
    "#exercice de l'étape 3\n",
    "def formatMdl(img):\n",
    "    \"\"\"\n",
    "    Fonction qui va mettre les modules de format sur notre image\n",
    "    \"\"\"    \n",
    "    #partie verticale\n",
    "    img.putpixel((8,0), (0,0,0))\n",
    "    img.putpixel((8,1), (255,255,255))\n",
    "    img.putpixel((8,2), (0,0,0))\n",
    "    img.putpixel((8,3), (0,0,0))\n",
    "    img.putpixel((8,4), (0,0,0))\n",
    "    img.putpixel((8,5), (255,255,255))\n",
    "    img.putpixel((8,7), (255,255,255))\n",
    "    img.putpixel((8,8), (0,0,0))\n",
    "    img.putpixel((8,13),(0,0,0))\n",
    "    img.putpixel((8,14), (255,255,255))\n",
    "    img.putpixel((8,15), (255,255,255))\n",
    "    img.putpixel((8,16), (255,255,255))\n",
    "    img.putpixel((8,17), (0,0,0))\n",
    "    img.putpixel((8,18), (0,0,0))\n",
    "    img.putpixel((8,19), (0,0,0))\n",
    "    img.putpixel((8,20), (0,0,0)) \n",
    "    \n",
    "    #partie horizontale\n",
    "    img.putpixel((20,8), (0,0,0))\n",
    "    img.putpixel((19,8), (255,255,255))\n",
    "    img.putpixel((18,8), (0,0,0))\n",
    "    img.putpixel((17,8), (0,0,0))\n",
    "    img.putpixel((16,8), (0,0,0))\n",
    "    img.putpixel((15,8), (255,255,255))\n",
    "    img.putpixel((14,8), (255,255,255))\n",
    "    img.putpixel((13,8), (0,0,0))\n",
    "    img.putpixel((8,8), (0,0,0))\n",
    "    img.putpixel((7,8), (255,255,255))\n",
    "    img.putpixel((5,8), (255,255,255))\n",
    "    img.putpixel((4,8), (255,255,255))\n",
    "    img.putpixel((3,8), (0,0,0))\n",
    "    img.putpixel((2,8), (0,0,0))\n",
    "    img.putpixel((1,8), (0,0,0))\n",
    "    img.putpixel((0,8), (0,0,0))"
   ]
  },
  {
   "cell_type": "code",
<<<<<<< HEAD
   "execution_count": 29,
=======
   "execution_count": 26,
>>>>>>> e487aa2d3811e3efd1b38b0c7033b1f0855886b3
   "metadata": {},
   "outputs": [
    {
     "ename": "NameError",
     "evalue": "name 'i' is not defined",
     "output_type": "error",
     "traceback": [
      "\u001b[1;31m---------------------------------------------------------------------------\u001b[0m",
      "\u001b[1;31mNameError\u001b[0m                                 Traceback (most recent call last)",
      "\u001b[1;32m<ipython-input-29-a2365ded2a08>\u001b[0m in \u001b[0;36m<module>\u001b[1;34m\u001b[0m\n\u001b[0;32m     21\u001b[0m \u001b[0mformatMdl\u001b[0m\u001b[1;33m(\u001b[0m\u001b[0mimg\u001b[0m\u001b[1;33m)\u001b[0m\u001b[1;33m\u001b[0m\u001b[1;33m\u001b[0m\u001b[0m\n\u001b[0;32m     22\u001b[0m \u001b[0mimg\u001b[0m\u001b[1;33m.\u001b[0m\u001b[0mputpixel\u001b[0m\u001b[1;33m(\u001b[0m\u001b[1;33m(\u001b[0m\u001b[1;36m8\u001b[0m\u001b[1;33m,\u001b[0m\u001b[1;36m13\u001b[0m\u001b[1;33m)\u001b[0m\u001b[1;33m,\u001b[0m\u001b[1;33m(\u001b[0m\u001b[1;36m0\u001b[0m\u001b[1;33m,\u001b[0m\u001b[1;36m0\u001b[0m\u001b[1;33m,\u001b[0m\u001b[1;36m0\u001b[0m\u001b[1;33m)\u001b[0m\u001b[1;33m)\u001b[0m\u001b[1;33m\u001b[0m\u001b[1;33m\u001b[0m\u001b[0m\n\u001b[1;32m---> 23\u001b[1;33m \u001b[0mcode\u001b[0m\u001b[1;33m(\u001b[0m\u001b[1;34m\"toto\"\u001b[0m\u001b[1;33m)\u001b[0m\u001b[1;33m\u001b[0m\u001b[1;33m\u001b[0m\u001b[0m\n\u001b[0m\u001b[0;32m     24\u001b[0m \u001b[0mimg\u001b[0m\u001b[1;33m.\u001b[0m\u001b[0mshow\u001b[0m\u001b[1;33m(\u001b[0m\u001b[1;33m)\u001b[0m\u001b[1;33m\u001b[0m\u001b[1;33m\u001b[0m\u001b[0m\n",
      "\u001b[1;32m<ipython-input-26-fcb38cfafa01>\u001b[0m in \u001b[0;36mcode\u001b[1;34m(message)\u001b[0m\n\u001b[0;32m      4\u001b[0m         \u001b[1;32mif\u001b[0m \u001b[0mi\u001b[0m \u001b[1;33m==\u001b[0m \u001b[1;34m\"0\"\u001b[0m\u001b[1;33m:\u001b[0m\u001b[1;33m\u001b[0m\u001b[1;33m\u001b[0m\u001b[0m\n\u001b[0;32m      5\u001b[0m             \u001b[0mz\u001b[0m \u001b[1;33m=\u001b[0m \u001b[1;33m(\u001b[0m\u001b[1;36m255\u001b[0m\u001b[1;33m,\u001b[0m\u001b[1;36m255\u001b[0m\u001b[1;33m,\u001b[0m\u001b[1;36m255\u001b[0m\u001b[1;33m)\u001b[0m\u001b[1;33m\u001b[0m\u001b[1;33m\u001b[0m\u001b[0m\n\u001b[1;32m----> 6\u001b[1;33m             \u001b[0mmonte20a13\u001b[0m\u001b[1;33m(\u001b[0m\u001b[0mimg\u001b[0m\u001b[1;33m,\u001b[0m\u001b[1;36m20\u001b[0m\u001b[1;33m,\u001b[0m\u001b[1;36m20\u001b[0m\u001b[1;33m,\u001b[0m\u001b[0mz\u001b[0m\u001b[1;33m)\u001b[0m\u001b[1;33m\u001b[0m\u001b[1;33m\u001b[0m\u001b[0m\n\u001b[0m\u001b[0;32m      7\u001b[0m         \u001b[1;32melif\u001b[0m \u001b[0mi\u001b[0m \u001b[1;33m==\u001b[0m \u001b[1;34m\"1\"\u001b[0m\u001b[1;33m:\u001b[0m\u001b[1;33m\u001b[0m\u001b[1;33m\u001b[0m\u001b[0m\n\u001b[0;32m      8\u001b[0m             \u001b[0mz\u001b[0m \u001b[1;33m=\u001b[0m \u001b[1;33m(\u001b[0m\u001b[1;36m0\u001b[0m\u001b[1;33m,\u001b[0m\u001b[1;36m0\u001b[0m\u001b[1;33m,\u001b[0m\u001b[1;36m0\u001b[0m\u001b[1;33m)\u001b[0m\u001b[1;33m\u001b[0m\u001b[1;33m\u001b[0m\u001b[0m\n",
      "\u001b[1;32m<ipython-input-25-a998b8e69987>\u001b[0m in \u001b[0;36mmonte20a13\u001b[1;34m(img, x, y, z)\u001b[0m\n\u001b[0;32m      2\u001b[0m     \u001b[1;32mwhile\u001b[0m \u001b[0my\u001b[0m \u001b[1;33m!=\u001b[0m \u001b[1;36m9\u001b[0m\u001b[1;33m:\u001b[0m\u001b[1;33m\u001b[0m\u001b[1;33m\u001b[0m\u001b[0m\n\u001b[0;32m      3\u001b[0m         \u001b[1;32mif\u001b[0m \u001b[0mx\u001b[0m\u001b[1;33m%\u001b[0m\u001b[1;36m2\u001b[0m \u001b[1;33m==\u001b[0m \u001b[1;36m0\u001b[0m\u001b[1;33m:\u001b[0m\u001b[1;33m\u001b[0m\u001b[1;33m\u001b[0m\u001b[0m\n\u001b[1;32m----> 4\u001b[1;33m             \u001b[0mmasque\u001b[0m\u001b[1;33m(\u001b[0m\u001b[0mx\u001b[0m\u001b[1;33m,\u001b[0m\u001b[0my\u001b[0m\u001b[1;33m,\u001b[0m\u001b[0mi\u001b[0m\u001b[1;33m)\u001b[0m \u001b[1;31m#fonction donner par le prof à l'étape 3\u001b[0m\u001b[1;33m\u001b[0m\u001b[1;33m\u001b[0m\u001b[0m\n\u001b[0m\u001b[0;32m      5\u001b[0m             \u001b[0mimg\u001b[0m\u001b[1;33m.\u001b[0m\u001b[0mputpixel\u001b[0m\u001b[1;33m(\u001b[0m\u001b[1;33m(\u001b[0m\u001b[0mx\u001b[0m\u001b[1;33m,\u001b[0m\u001b[0my\u001b[0m\u001b[1;33m)\u001b[0m\u001b[1;33m,\u001b[0m\u001b[0ma\u001b[0m\u001b[1;33m)\u001b[0m\u001b[1;33m\u001b[0m\u001b[1;33m\u001b[0m\u001b[0m\n\u001b[0;32m      6\u001b[0m             \u001b[0mx\u001b[0m \u001b[1;33m=\u001b[0m \u001b[0mx\u001b[0m \u001b[1;33m-\u001b[0m\u001b[1;36m1\u001b[0m\u001b[1;33m\u001b[0m\u001b[1;33m\u001b[0m\u001b[0m\n",
      "\u001b[1;31mNameError\u001b[0m: name 'i' is not defined"
     ]
    }
   ],
   "source": [
    "#Code pour faire le QR code avec le module de format:\n",
    "couleur = (128,128,128)\n",
    "dimensions = (21,21)\n",
    "img = Image.new(\"RGB\",dimensions , couleur)\n",
    "draw = ImageDraw.Draw(img)\n",
    "#premier carré en haut à gauche\n",
    "draw.rectangle(((0,0),(6,6)), fill=(0,0,0))\n",
    "draw.rectangle(((1,1),(5,5,)), fill=(255,255,255))\n",
    "draw.rectangle(((2,2),(4,4)), fill=(0,0,0))\n",
    "#deuxieme carré en haut à droite\n",
    "draw.rectangle(((20,0),(14,6)), fill=(0,0,0))\n",
    "draw.rectangle(((19,1),(15,5,)), fill=(255,255,255))\n",
    "draw.rectangle(((18,2),(16,4)), fill=(0,0,0))\n",
    "#troisieme carré en bas à gauche\n",
    "draw.rectangle(((0,20),(6,14)), fill=(0,0,0))\n",
    "draw.rectangle(((1,19),(5,15,)), fill=(255,255,255))\n",
    "draw.rectangle(((2,18),(4,16)), fill=(0,0,0))\n",
    "\n",
    "separatorMdl(img)\n",
    "timingMdl(img)\n",
    "formatMdl(img)\n",
<<<<<<< HEAD
    "img.putpixel((8,13),(0,0,0))\n",
    "code(\"toto\")\n",
=======
>>>>>>> e487aa2d3811e3efd1b38b0c7033b1f0855886b3
    "img.show()"
   ]
  },
  {
   "cell_type": "code",
<<<<<<< HEAD
   "execution_count": 22,
=======
   "execution_count": 31,
   "metadata": {},
   "outputs": [],
   "source": [
    "def Finale(img):\n",
    "    QRCode(img)\n",
    "    separatorMdl(img)\n",
    "    timingMdl(img)\n",
    "    formatMdl(img)\n",
    "    img.show()"
   ]
  },
  {
   "cell_type": "code",
   "execution_count": 32,
   "metadata": {},
   "outputs": [],
   "source": [
    "Finale(img)"
   ]
  },
  {
   "cell_type": "code",
   "execution_count": 9,
>>>>>>> e487aa2d3811e3efd1b38b0c7033b1f0855886b3
   "metadata": {},
   "outputs": [],
   "source": [
    "import qr"
   ]
  },
  {
   "cell_type": "code",
   "execution_count": 23,
   "metadata": {},
   "outputs": [],
   "source": [
    "def masque(x,y,i):#fonction donner par le prof à l'étape 3\n",
    "    if (x+y) %3 == 0:\n",
    "        if i == '0':\n",
    "            return '1'\n",
    "        else:\n",
    "            return '0'\n",
    "    else:\n",
    "        return i"
   ]
  },
  {
   "cell_type": "code",
   "execution_count": 26,
   "metadata": {},
   "outputs": [],
   "source": [
    "def code(message):\n",
    "    msg = qr.message2bits(message)\n",
    "    for i in msg:\n",
    "        if i == \"0\":\n",
    "            z = (255,255,255)\n",
    "            monte20a13(img,20,20,z)\n",
    "        elif i == \"1\":\n",
    "            z = (0,0,0)\n",
    "            monte20a13(img,(20,20),z)\n",
    "    \n",
    "    "
   ]
  },
  {
   "cell_type": "code",
   "execution_count": 22,
   "metadata": {},
   "outputs": [],
   "source": [
    "code(\"toto\")"
   ]
  },
  {
   "cell_type": "code",
   "execution_count": 25,
   "metadata": {
    "scrolled": true
   },
   "outputs": [],
   "source": [
    "def monte20a13(img,x,y,z):\n",
    "    while y != 9:\n",
    "        if x%2 == 0:\n",
    "            masque(x,y,i) #fonction donner par le prof à l'étape 3\n",
    "            img.putpixel((x,y),a)\n",
    "            x = x -1 \n",
    "        elif x%2 != 0:\n",
    "            masque(x,y,i)\n",
    "            img.putpixel((x,y),b)\n",
    "            x = x + 1\n",
    "            y = y - 1\n",
    "    #attention fonction masque\n",
    "    img.putpixel((x,y),i)\n",
    "    img.putpixel((x-1,y),i)\n",
    "    \n",
    "    "
   ]
  },
  {
   "cell_type": "code",
   "execution_count": 33,
   "metadata": {},
   "outputs": [
    {
     "ename": "SyntaxError",
     "evalue": "invalid syntax (2703026109.py, line 4)",
     "output_type": "error",
     "traceback": [
      "\u001b[0;36m  File \u001b[0;32m\"/var/folders/v0/wy3sc4p17z98gd5lwpl2_8djc3lrg5/T/ipykernel_3092/2703026109.py\"\u001b[0;36m, line \u001b[0;32m4\u001b[0m\n\u001b[0;31m    fontion masque\u001b[0m\n\u001b[0m            ^\u001b[0m\n\u001b[0;31mSyntaxError\u001b[0m\u001b[0;31m:\u001b[0m invalid syntax\n"
     ]
    }
   ],
   "source": [
<<<<<<< Updated upstream
    "def descente20a13(img,x,y,i):\n",
    "    while  y!= 20:\n",
    "        if x%2 == 0:\n",
    "            fontion masque\n",
    "            img.putpixel((x,y),i)\n",
    "            x = x -1\n",
    "        else x%2 != 0:\n",
    "            fonction masque\n",
    "            img.putpixel((x,y),i)\n",
    "            x = x + 1\n",
    "            y = y + 1\n",
    "    #attention fonction masque\n",
    "    img.putpixel((x,y),i)\n",
    "    img.putpixel((x-1,y),i)\n",
    "    \n",
    "        \n",
    "    ########    "
   ]
<<<<<<< HEAD
=======
=======
    "import qr"
   ]
  },
  {
   "cell_type": "code",
   "execution_count": 1,
   "metadata": {},
   "outputs": [
    {
     "ename": "SyntaxError",
     "evalue": "invalid syntax (<ipython-input-1-6e52203748f2>, line 4)",
     "output_type": "error",
     "traceback": [
      "\u001b[1;36m  File \u001b[1;32m\"<ipython-input-1-6e52203748f2>\"\u001b[1;36m, line \u001b[1;32m4\u001b[0m\n\u001b[1;33m    if i = 0:\u001b[0m\n\u001b[1;37m         ^\u001b[0m\n\u001b[1;31mSyntaxError\u001b[0m\u001b[1;31m:\u001b[0m invalid syntax\n"
     ]
    }
   ],
   "source": [
    "def placement(x,y,img,message):\n",
    "    msg = qr.message2bits(\"message\")\n",
    "    for i in msg:\n",
    "        if i = 0:\n",
    "            i = (225,225,225)\n",
    "        else i = 1:\n",
    "            i = (0,0,0)\n",
    "            #def masque(x,y,bit):\n",
    "                #if (x+y) %3 == 0:\n",
    "                    #if bit == '0':\n",
    "                    #return '1'\n",
    "                #else:\n",
    "                    #return '0'\n",
    "            def montée(x,y,):\n",
    "                while y != 0:\n",
    "                    if x%2 == 0:\n",
    "                        img.putpixel\n",
    "                        x = x - 1\n",
    "                    else x%2 != 0:\n",
    "                        img.putpixel\n",
    "                        y = y-1\n",
    "                        x = x + 1\n",
    "            img,put x et y\n",
    "            img put x-1 et y\n",
    "            img put x -2 et y\n",
    "            x = x-2\n",
    "                while y !=20:\n",
    "                    if x%2 == 0:\n",
    "                        img.put x y\n",
    "                        x = x-1\n",
    "                    else x&2 != 0:\n",
    "                        img put x et y\n",
    "                        x = x + 1\n",
    "                        y = y + 1\n",
    "                        \n",
    "            img.put x et y\n",
    "            img.put x-1 et y \n",
    "        \n",
    "            \n",
    "        \n",
    "            \n",
    "                        \n",
    "                        \n",
    "                \n",
    "                \n",
    "            \n",
    "                \n",
    "                \n",
    "            \n",
    "            \n",
    "                \n",
    "                    \n",
    "                \n",
    "                \n",
    "                \n",
    "            \n",
    "            \n",
    "   \n",
    "            \n",
    "            \n",
    "            \n",
    "        \n",
    "    \n",
    "    "
   ]
>>>>>>> 83d17cd815426cc9b36264945de6276672b5f68f
  },
  {
   "cell_type": "code",
   "execution_count": null,
   "metadata": {},
   "outputs": [],
   "source": []
<<<<<<< HEAD
=======
>>>>>>> Stashed changes
>>>>>>> 83d17cd815426cc9b36264945de6276672b5f68f
  }
 ],
 "metadata": {
  "kernelspec": {
   "display_name": "Python 3 (ipykernel)",
   "language": "python",
   "name": "python3"
  },
  "language_info": {
   "codemirror_mode": {
    "name": "ipython",
    "version": 3
   },
   "file_extension": ".py",
   "mimetype": "text/x-python",
   "name": "python",
   "nbconvert_exporter": "python",
   "pygments_lexer": "ipython3",
   "version": "3.9.7"
  }
 },
 "nbformat": 4,
 "nbformat_minor": 4
}
