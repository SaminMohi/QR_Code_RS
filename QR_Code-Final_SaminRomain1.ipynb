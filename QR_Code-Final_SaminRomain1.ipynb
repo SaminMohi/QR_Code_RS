{
 "cells": [
  {
   "cell_type": "code",
   "execution_count": 3,
   "metadata": {},
   "outputs": [],
   "source": [
    "from PIL import Image, ImageDraw"
   ]
  },
  {
   "cell_type": "code",
   "execution_count": 4,
   "metadata": {},
   "outputs": [],
   "source": [
    "def posMdl(img, x, y):\n",
    "    draw = ImageDraw.Draw(img)\n",
    "    for x, y in range(x,y):\n",
    "        draw.rectangle(((0,0),(x,y)), fill=(0,0,0))\n",
    "        draw.rectangle(((45,30),(54,43)), fill=(255,255,255))\n",
    "    "
   ]
  },
  {
   "cell_type": "code",
   "execution_count": 13,
   "metadata": {},
   "outputs": [],
   "source": [
    "#Code pour faire le QR code:\n",
    "couleur = (255,255,255)\n",
    "dimensions = (21,21)\n",
    "img = Image.new(\"RGB\",dimensions , couleur)\n",
    "draw = ImageDraw.Draw(img)\n",
    "draw.rectangle(((0,0),(6,6)), fill=(0,0,0))\n",
    "draw.rectangle(((1,1),(5,5,)), fill=(255,255,255))\n",
    "draw.rectangle(((2,2),(4,4)), fill=(0,0,0))\n",
    "\n",
    "draw.rectangle(((20,0),(14,6)), fill=(0,0,0))\n",
    "draw.rectangle(((19,1),(15,5,)), fill=(255,255,255))\n",
    "draw.rectangle(((18,2),(16,4)), fill=(0,0,0))\n",
    "\n",
    "draw.rectangle(((0,20),(6,14)), fill=(0,0,0))\n",
    "draw.rectangle(((1,19),(5,15,)), fill=(255,255,255))\n",
    "draw.rectangle(((2,18),(4,16)), fill=(0,0,0))\n",
    "img.show()"
   ]
  },
  {
   "cell_type": "code",
   "execution_count": 5,
   "metadata": {},
   "outputs": [],
   "source": [
    "def Hseg(img,ligne, colstart = None , colend = None, color = (255,255,255)):\n",
    "    larg, haut = img.size \n",
    "    if colstart == None:\n",
    "        colstart = 0\n",
    "    if colend == None:\n",
    "        colend = larg\n",
    "    for x in range(colstart, colend): #range n'inclut pas le dernier élément \n",
    "        img.putpixel((x, ligne), color)"
   ]
  },
  {
   "cell_type": "code",
   "execution_count": 6,
   "metadata": {},
   "outputs": [],
   "source": [
    "def Vseg(img,colonne, lignestart = None , ligneend = None, color = (255,255,255)):\n",
    "    larg, haut = img.size \n",
    "    if lignestart == None:\n",
    "        lignestart = 0\n",
    "    if ligneend == None:\n",
    "        ligneend = larg\n",
    "    for x in range(lignestart, ligneend):\n",
    "        img.putpixel((colonne, x), color)"
   ]
  },
  {
   "cell_type": "code",
   "execution_count": 7,
   "metadata": {},
   "outputs": [],
   "source": [
    "def separatorMdl(img):\n",
    "        Hseg(img,7,0,8)\n",
    "        Vseg(img,7,0,8)\n",
    "        \n",
    "        Hseg(img,13,0,8)\n",
    "        Vseg(img,7,13,21)\n",
    "        \n",
    "        Hseg(img,7,13,21)\n",
    "        Vseg(img,13,0,8)   "
   ]
  },
  {
   "cell_type": "code",
   "execution_count": 19,
   "metadata": {},
   "outputs": [],
   "source": [
    "#Code pour faire le QR code:\n",
    "couleur = (235,235,235)\n",
    "dimensions = (21,21)\n",
    "img = Image.new(\"RGB\",dimensions , couleur)\n",
    "draw = ImageDraw.Draw(img)\n",
    "#premier carré en haut à gauche\n",
    "draw.rectangle(((0,0),(6,6)), fill=(0,0,0))\n",
    "draw.rectangle(((1,1),(5,5,)), fill=(255,255,255))\n",
    "draw.rectangle(((2,2),(4,4)), fill=(0,0,0))\n",
    "#deuxieme carré en haut à droite\n",
    "draw.rectangle(((20,0),(14,6)), fill=(0,0,0))\n",
    "draw.rectangle(((19,1),(15,5,)), fill=(255,255,255))\n",
    "draw.rectangle(((18,2),(16,4)), fill=(0,0,0))\n",
    "#troisieme carré en bas à gauche\n",
    "draw.rectangle(((0,20),(6,14)), fill=(0,0,0))\n",
    "draw.rectangle(((1,19),(5,15,)), fill=(255,255,255))\n",
    "draw.rectangle(((2,18),(4,16)), fill=(0,0,0))\n",
    "\n",
    "separatorMdl(img)\n",
    "\n",
    "\n",
    "img.show()"
   ]
  },
  {
   "cell_type": "code",
   "execution_count": 8,
   "metadata": {},
   "outputs": [],
   "source": [
    "def timingMdl(img):\n",
    "    img.putpixel((8,6), (0,0,0))\n",
    "    img.putpixel((9,6), (255,255,255))\n",
    "    img.putpixel((10,6), (0,0,0))\n",
    "    img.putpixel((11,6), (255,255,255))\n",
    "    img.putpixel((12,6), (0,0,0))\n",
    "    \n",
    "    img.putpixel((6,8), (0,0,0))\n",
    "    img.putpixel((6,9), (255,255,255))\n",
    "    img.putpixel((6,10), (0,0,0))\n",
    "    img.putpixel((6,11), (255,255,255))\n",
    "    img.putpixel((6,12), (0,0,0))\n",
    "    "
   ]
  },
  {
   "cell_type": "markdown",
   "metadata": {},
   "source": [
    "no "
   ]
  },
  {
   "cell_type": "code",
   "execution_count": 1,
   "metadata": {},
   "outputs": [],
   "source": [
    "#Étape 3\n",
    "def formatMdl(img):\n",
    "    \n",
    "    #partie verticale\n",
    "    img.putpixel((8,0), (0,0,0))\n",
    "    img.putpixel((8,1), (255,255,255))\n",
    "    img.putpixel((8,2), (0,0,0))\n",
    "    img.putpixel((8,3), (0,0,0))\n",
    "    img.putpixel((8,4), (0,0,0))\n",
    "    img.putpixel((8,5), (255,255,255))\n",
    "    img.putpixel((8,7), (255,255,255))\n",
    "    img.putpixel((8,8), (0,0,0))\n",
    "    img.putpixel((8,14), (255,255,255))\n",
    "    img.putpixel((8,15), (255,255,255))\n",
    "    img.putpixel((8,16), (255,255,255))\n",
    "    img.putpixel((8,17), (0,0,0))\n",
    "    img.putpixel((8,18), (0,0,0))\n",
    "    img.putpixel((8,19), (0,0,0))\n",
    "    img.putpixel((8,20), (0,0,0))\n",
    "\n",
    "    \n",
    "    \n",
    "    #partie horizontale\n",
    " "
   ]
  },
  {
   "cell_type": "code",
   "execution_count": 38,
   "metadata": {},
   "outputs": [],
   "source": [
    "#Code pour faire le QR code:\n",
    "couleur = (128,128,128)\n",
    "dimensions = (21,21)\n",
    "img = Image.new(\"RGB\",dimensions , couleur)\n",
    "draw = ImageDraw.Draw(img)\n",
    "#premier carré en haut à gauche\n",
    "draw.rectangle(((0,0),(6,6)), fill=(0,0,0))\n",
    "draw.rectangle(((1,1),(5,5,)), fill=(255,255,255))\n",
    "draw.rectangle(((2,2),(4,4)), fill=(0,0,0))\n",
    "#deuxieme carré en haut à droite\n",
    "draw.rectangle(((20,0),(14,6)), fill=(0,0,0))\n",
    "draw.rectangle(((19,1),(15,5,)), fill=(255,255,255))\n",
    "draw.rectangle(((18,2),(16,4)), fill=(0,0,0))\n",
    "#troisieme carré en bas à gauche\n",
    "draw.rectangle(((0,20),(6,14)), fill=(0,0,0))\n",
    "draw.rectangle(((1,19),(5,15,)), fill=(255,255,255))\n",
    "draw.rectangle(((2,18),(4,16)), fill=(0,0,0))\n",
    "\n",
    "separatorMdl(img)\n",
    "timingMdl(img)\n",
    "formatMdl(img)\n",
    "img.putpixel((8,13),(0,0,0))\n",
    "img.show()"
   ]
  },
  {
   "cell_type": "code",
   "execution_count": null,
   "metadata": {},
   "outputs": [],
   "source": []
  }
 ],
 "metadata": {
  "kernelspec": {
   "display_name": "Python 3",
   "language": "python",
   "name": "python3"
  },
  "language_info": {
   "codemirror_mode": {
    "name": "ipython",
    "version": 3
   },
   "file_extension": ".py",
   "mimetype": "text/x-python",
   "name": "python",
   "nbconvert_exporter": "python",
   "pygments_lexer": "ipython3",
   "version": "3.8.8"
  }
 },
 "nbformat": 4,
 "nbformat_minor": 4
}
