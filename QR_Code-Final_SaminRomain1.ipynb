{
 "cells": [
  {
   "cell_type": "code",
   "execution_count": 1,
   "metadata": {},
   "outputs": [],
   "source": [
    "from PIL import Image, ImageDraw"
   ]
  },
  {
   "cell_type": "code",
   "execution_count": 2,
   "metadata": {},
   "outputs": [],
   "source": [
    "#1er code pour faire le QR code, juste en ajoutant les 3 carrés:\n",
    "couleur = (255,255,255)\n",
    "dimensions = (21,21)\n",
    "img = Image.new(\"RGB\",dimensions , couleur)\n",
    "draw = ImageDraw.Draw(img)\n",
    "#1er carré, en haute à gauche\n",
    "draw.rectangle(((0,0),(6,6)), fill=(0,0,0))   #d'abord on fait un carré et on rempli en noir\n",
    "draw.rectangle(((1,1),(5,5,)), fill=(255,255,255)) #ensuite on faite un carré blanc\n",
    "draw.rectangle(((2,2),(4,4)), fill=(0,0,0))   #ensuite le dernier carré noir\n",
    "#2ème carré en haute à droite\n",
    "draw.rectangle(((20,0),(14,6)), fill=(0,0,0))\n",
    "draw.rectangle(((19,1),(15,5,)), fill=(255,255,255))\n",
    "draw.rectangle(((18,2),(16,4)), fill=(0,0,0))\n",
    "#3ème carré en bas à gauche\n",
    "draw.rectangle(((0,20),(6,14)), fill=(0,0,0))\n",
    "draw.rectangle(((1,19),(5,15,)), fill=(255,255,255))\n",
    "draw.rectangle(((2,18),(4,16)), fill=(0,0,0))\n",
    "img.show()"
   ]
  },
  {
   "cell_type": "code",
   "execution_count": 3,
   "metadata": {},
   "outputs": [],
   "source": [
    "#Hseg et Vseg fait à l'étape 1\n",
    "def Hseg(img,ligne, colstart = None , colend = None, color = (255,255,255)):\n",
    "    #img, l'image qu'on veut modifier\n",
    "    #ligne, la hauteur \n",
    "    #colstart, colend ; de où à où\n",
    "    #quand on les spécifie pas, en mettant \"None\", ça veut dire ça continue jusqu'à la fin de l'image  \n",
    "    larg, haut = img.size \n",
    "    if colstart == None:\n",
    "        colstart = 0         #si on imagine une image de taille 10x10, ça commence à 0 (le colstart)\n",
    "    if colend == None:\n",
    "        colend = larg     # et ici colend = 10, alors que la dernère coordonnée c'est (9,9)\n",
    "    for x in range(colstart, colend): #ça ne pose pas de problèmes car la fonction range n'inclut pas le dernier élément \n",
    "        img.putpixel((x, ligne), color)"
   ]
  },
  {
   "cell_type": "code",
   "execution_count": 4,
   "metadata": {},
   "outputs": [],
   "source": [
    "def Vseg(img,colonne, lignestart = None , ligneend = None, color = (255,255,255)):\n",
    "    larg, haut = img.size \n",
    "    if lignestart == None:\n",
    "        lignestart = 0\n",
    "    if ligneend == None:\n",
    "        ligneend = larg\n",
    "    for x in range(lignestart, ligneend):\n",
    "        img.putpixel((colonne, x), color)"
   ]
  },
  {
   "cell_type": "code",
   "execution_count": 5,
   "metadata": {},
   "outputs": [],
   "source": [
    "#avec les fonctions Hseg et Vseg, on peut créer la fonction separatorMdl pour placer les modules séparateurs\n",
    "def separatorMdl(img):\n",
    "    \"\"\"\n",
    "    Fonction pour les séprateurs\n",
    "    \"\"\"\n",
    "    #séparateur du carré en haut à gauche.\n",
    "    Hseg(img,7,0,8)\n",
    "    Vseg(img,7,0,8)\n",
    "    #séprateur du carré en haut à droite    \n",
    "    Hseg(img,7,13,21)\n",
    "    Vseg(img,13,0,8) \n",
    "    #séprateur du carré en bas à gauche    \n",
    "    Hseg(img,13,0,8)\n",
    "    Vseg(img,7,13,21)"
   ]
  },
  {
   "cell_type": "code",
   "execution_count": 6,
   "metadata": {},
   "outputs": [],
   "source": [
    "\n",
    "def timingMdl(img):\n",
    "    \"\"\"\n",
    "    Fonction pour les modules de cadencement\n",
    "    \"\"\"\n",
    "    #segment horizontale\n",
    "    img.putpixel((8,6), (0,0,0))\n",
    "    img.putpixel((9,6), (255,255,255))\n",
    "    img.putpixel((10,6), (0,0,0))\n",
    "    img.putpixel((11,6), (255,255,255))\n",
    "    img.putpixel((12,6), (0,0,0))\n",
    "    #segment verticale\n",
    "    img.putpixel((6,8), (0,0,0))\n",
    "    img.putpixel((6,9), (255,255,255))\n",
    "    img.putpixel((6,10), (0,0,0))\n",
    "    img.putpixel((6,11), (255,255,255))\n",
    "    img.putpixel((6,12), (0,0,0))\n",
    "    "
   ]
  },
  {
   "cell_type": "markdown",
   "metadata": {},
   "source": []
  },
  {
   "cell_type": "code",
   "execution_count": 7,
   "metadata": {},
   "outputs": [],
   "source": [
    "#exercice de l'étape 3\n",
    "def formatMdl(img):\n",
    "    \"\"\"\n",
    "    Fonction qui va mettre les modules de format sur notre image\n",
    "    \"\"\"    \n",
    "    #partie verticale\n",
    "    img.putpixel((8,0), (0,0,0))\n",
    "    img.putpixel((8,1), (255,255,255))\n",
    "    img.putpixel((8,2), (0,0,0))\n",
    "    img.putpixel((8,3), (0,0,0))\n",
    "    img.putpixel((8,4), (0,0,0))\n",
    "    img.putpixel((8,5), (255,255,255))\n",
    "    img.putpixel((8,7), (255,255,255))\n",
    "    img.putpixel((8,8), (0,0,0))\n",
    "    img.putpixel((8,14), (255,255,255))\n",
    "    img.putpixel((8,15), (255,255,255))\n",
    "    img.putpixel((8,16), (255,255,255))\n",
    "    img.putpixel((8,17), (0,0,0))\n",
    "    img.putpixel((8,18), (0,0,0))\n",
    "    img.putpixel((8,19), (0,0,0))\n",
    "    img.putpixel((8,20), (0,0,0)) \n",
    "    \n",
    "    #partie horizontale\n",
    "    img.putpixel((20,8), (0,0,0))\n",
    "    img.putpixel((19,8), (255,255,255))\n",
    "    img.putpixel((18,8), (0,0,0))\n",
    "    img.putpixel((17,8), (0,0,0))\n",
    "    img.putpixel((16,8), (0,0,0))\n",
    "    img.putpixel((15,8), (255,255,255))\n",
    "    img.putpixel((14,8), (255,255,255))\n",
    "    img.putpixel((8,8), (0,0,0))\n",
    "    img.putpixel((7,8), (255,255,255))\n",
    "    img.putpixel((5,8), (255,255,255))\n",
    "    img.putpixel((4,8), (255,255,255))\n",
    "    img.putpixel((3,8), (0,0,0))\n",
    "    img.putpixel((2,8), (0,0,0))\n",
    "    img.putpixel((1,8), (0,0,0))\n",
    "    img.putpixel((0,8), (0,0,0))"
   ]
  },
  {
   "cell_type": "code",
   "execution_count": 23,
   "metadata": {},
   "outputs": [],
   "source": [
    "#Code pour faire le QR code avec le module de format:\n",
    "couleur = (128,128,128)\n",
    "dimensions = (21,21)\n",
    "img = Image.new(\"RGB\",dimensions , couleur)\n",
    "draw = ImageDraw.Draw(img)\n",
    "#premier carré en haut à gauche\n",
    "draw.rectangle(((0,0),(6,6)), fill=(0,0,0))\n",
    "draw.rectangle(((1,1),(5,5,)), fill=(255,255,255))\n",
    "draw.rectangle(((2,2),(4,4)), fill=(0,0,0))\n",
    "#deuxieme carré en haut à droite\n",
    "draw.rectangle(((20,0),(14,6)), fill=(0,0,0))\n",
    "draw.rectangle(((19,1),(15,5,)), fill=(255,255,255))\n",
    "draw.rectangle(((18,2),(16,4)), fill=(0,0,0))\n",
    "#troisieme carré en bas à gauche\n",
    "draw.rectangle(((0,20),(6,14)), fill=(0,0,0))\n",
    "draw.rectangle(((1,19),(5,15,)), fill=(255,255,255))\n",
    "draw.rectangle(((2,18),(4,16)), fill=(0,0,0))\n",
    "\n",
    "separatorMdl(img)\n",
    "timingMdl(img)\n",
    "formatMdl(img)\n",
    "img.putpixel((8,13),(0,0,0))\n",
    "code(\"toto\")\n",
    "img.show()"
   ]
  },
  {
   "cell_type": "code",
   "execution_count": 9,
   "metadata": {},
   "outputs": [],
   "source": [
    "import qr"
   ]
  },
  {
   "cell_type": "code",
   "execution_count": 10,
   "metadata": {},
   "outputs": [],
   "source": [
    "def masque(x,y,bit):#fonction donner par le prof à l'étape 3\n",
    "    if (x+y) %3 == 0:\n",
    "        if bit == '0':\n",
    "            return '1'\n",
    "        else:\n",
    "            return '0'\n",
    "    else:\n",
    "        return bit"
   ]
  },
  {
   "cell_type": "code",
   "execution_count": 21,
   "metadata": {},
   "outputs": [],
   "source": [
    "def code(message):\n",
    "    msg = qr.message2bits(message)\n",
    "    \n",
    "    for i in msg:\n",
    "        if i == 0:\n",
    "            a = (255,255,255)\n",
    "            monte20a13(img,20,20,a)\n",
    "        elif i == 1:\n",
    "            b = (0,0,0)\n",
    "            monte20a13(img,(20,20),b)\n",
    "    img.show()\n",
    "    \n",
    "    "
   ]
  },
  {
   "cell_type": "code",
   "execution_count": 22,
   "metadata": {},
   "outputs": [],
   "source": [
    "code(\"toto\")"
   ]
  },
  {
   "cell_type": "code",
   "execution_count": 11,
   "metadata": {
    "scrolled": true
   },
   "outputs": [],
   "source": [
    "def monte20a13(img,x,y,a,b):\n",
    "    while y != 9:\n",
    "        if x%2 == 0:\n",
    "            masque(x,y,i) #fonction donner par le prof à l'étape 3\n",
    "            img.putpixel((x,y),a)\n",
    "            x = x -1 \n",
    "        elif x%2 != 0:\n",
    "            masque(x,y,i)\n",
    "            img.putpixel((x,y),b)\n",
    "            x = x + 1\n",
    "            y = y - 1\n",
    "    #attention fonction masque\n",
    "    img.putpixel((x,y),i)\n",
    "    img.putpixel((x-1,y),i)\n",
    "    \n",
    "    "
   ]
  },
  {
   "cell_type": "code",
   "execution_count": null,
   "metadata": {},
   "outputs": [],
   "source": [
    "def descente20a13(img,x,y,i):\n",
    "    while  y!= 20:\n",
    "        if x%2 == 0:\n",
    "            fontion masque\n",
    "            img.putpixel((x,y),i)\n",
    "            x = x -1\n",
    "        else x%2 != 0:\n",
    "            fonction masque\n",
    "            img.putpixel((x,y),i)\n",
    "            x = x + 1\n",
    "            y = y + 1\n",
    "    #attention fonction masque\n",
    "    img.putpixel((x,y),i)\n",
    "    img.putpixel((x-1,y),i)\n",
    "    \n",
    "        \n",
    "        "
   ]
  }
 ],
 "metadata": {
  "kernelspec": {
   "display_name": "Python 3",
   "language": "python",
   "name": "python3"
  },
  "language_info": {
   "codemirror_mode": {
    "name": "ipython",
    "version": 3
   },
   "file_extension": ".py",
   "mimetype": "text/x-python",
   "name": "python",
   "nbconvert_exporter": "python",
   "pygments_lexer": "ipython3",
   "version": "3.8.8"
  }
 },
 "nbformat": 4,
 "nbformat_minor": 4
}
