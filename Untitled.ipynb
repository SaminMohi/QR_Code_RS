{
 "cells": [
  {
   "cell_type": "code",
   "execution_count": 2,
   "id": "e59d9af5",
   "metadata": {},
   "outputs": [],
   "source": [
    "import MTgood"
   ]
  },
  {
   "cell_type": "code",
   "execution_count": 3,
   "id": "c52a9595",
   "metadata": {},
   "outputs": [],
   "source": [
    "from PIL import Image, ImageDraw"
   ]
  },
  {
   "cell_type": "code",
   "execution_count": 4,
   "id": "ddb629ac",
   "metadata": {},
   "outputs": [],
   "source": [
    "couleur = (155,155,155) \n",
    "dimensions = (21,21)\n",
    "img = Image.new(\"RGB\",dimensions , couleur)\n",
    "draw = ImageDraw.Draw(img)"
   ]
  },
  {
   "cell_type": "code",
   "execution_count": null,
   "id": "ce649b3b",
   "metadata": {},
   "outputs": [],
   "source": [
    "MTgood.Final(img)"
   ]
  },
  {
   "cell_type": "code",
   "execution_count": null,
   "id": "5506cd8f",
   "metadata": {},
   "outputs": [],
   "source": []
  }
 ],
 "metadata": {
  "kernelspec": {
   "display_name": "Python 3",
   "language": "python",
   "name": "python3"
  },
  "language_info": {
   "codemirror_mode": {
    "name": "ipython",
    "version": 3
   },
   "file_extension": ".py",
   "mimetype": "text/x-python",
   "name": "python",
   "nbconvert_exporter": "python",
   "pygments_lexer": "ipython3",
   "version": "3.8.8"
  }
 },
 "nbformat": 4,
 "nbformat_minor": 5
}
