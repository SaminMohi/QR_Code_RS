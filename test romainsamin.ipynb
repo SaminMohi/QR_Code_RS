{
 "cells": [
  {
   "cell_type": "code",
   "execution_count": 8,
   "id": "f909c872",
   "metadata": {},
   "outputs": [],
   "source": [
    "import MTgood"
   ]
  },
  {
   "cell_type": "code",
   "execution_count": 13,
   "id": "937982d2",
   "metadata": {},
   "outputs": [],
   "source": [
    "from PIL import Image, ImageDraw"
   ]
  },
  {
   "cell_type": "code",
   "execution_count": 14,
   "id": "e78db0f0",
   "metadata": {},
   "outputs": [],
   "source": [
    "couleur = (155,155,155)\n",
    "dimensions = (21,21)\n",
    "img = Image.new(\"RGB\",dimensions , couleur)\n",
    "draw = ImageDraw.Draw(img)"
   ]
  },
  {
   "cell_type": "code",
   "execution_count": 15,
   "id": "702dc865",
   "metadata": {},
   "outputs": [
    {
     "name": "stdout",
     "output_type": "stream",
     "text": [
      "Entrez-votre message (max 17 caractères) :  chamblandes.ch\n"
     ]
    }
   ],
   "source": [
    "MTgood.Final(img)"
   ]
  },
  {
   "cell_type": "code",
   "execution_count": null,
   "id": "0c89437e",
   "metadata": {},
   "outputs": [],
   "source": []
  },
  {
   "cell_type": "code",
   "execution_count": null,
   "id": "ac5848e4",
   "metadata": {},
   "outputs": [],
   "source": []
  }
 ],
 "metadata": {
  "kernelspec": {
   "display_name": "Python 3",
   "language": "python",
   "name": "python3"
  },
  "language_info": {
   "codemirror_mode": {
    "name": "ipython",
    "version": 3
   },
   "file_extension": ".py",
   "mimetype": "text/x-python",
   "name": "python",
   "nbconvert_exporter": "python",
   "pygments_lexer": "ipython3",
   "version": "3.8.8"
  }
 },
 "nbformat": 4,
 "nbformat_minor": 5
}
