{
 "cells": [
  {
   "cell_type": "code",
   "execution_count": null,
   "metadata": {},
   "outputs": [],
   "source": [
    "from PIL import Image, ImageDraw"
   ]
  },
  {
   "cell_type": "code",
   "execution_count": null,
   "metadata": {},
   "outputs": [],
   "source": [
    "#1er code pour faire le QR code, juste en ajoutant les 3 carrés:\n",
    "couleur = (255,255,255)\n",
    "dimensions = (21,21)\n",
    "img = Image.new(\"RGB\",dimensions , couleur)\n",
    "draw = ImageDraw.Draw(img)\n",
    "#1er carré, en haute à gauche\n",
    "draw.rectangle(((0,0),(6,6)), fill=(0,0,0))   #d'abord on fait un carré et on rempli en noir\n",
    "draw.rectangle(((1,1),(5,5,)), fill=(255,255,255)) #ensuite on faite un carré blanc\n",
    "draw.rectangle(((2,2),(4,4)), fill=(0,0,0))   #ensuite le dernier carré noir\n",
    "#2ème carré en haute à droite\n",
    "draw.rectangle(((20,0),(14,6)), fill=(0,0,0))\n",
    "draw.rectangle(((19,1),(15,5,)), fill=(255,255,255))\n",
    "draw.rectangle(((18,2),(16,4)), fill=(0,0,0))\n",
    "#3ème carré en bas à gauche\n",
    "draw.rectangle(((0,20),(6,14)), fill=(0,0,0))\n",
    "draw.rectangle(((1,19),(5,15,)), fill=(255,255,255))\n",
    "draw.rectangle(((2,18),(4,16)), fill=(0,0,0))\n",
    "#img.show()"
   ]
  },
  {
   "cell_type": "code",
   "execution_count": null,
   "metadata": {},
   "outputs": [],
   "source": [
    "#Hseg et Vseg fait à l'étape 1\n",
    "def Hseg(img,ligne, colstart = None , colend = None, color = (255,255,255)):\n",
    "    \"\"\"\n",
    "    Fonction pour les lignes horizontales\n",
    "    \"\"\"\n",
    "    #img, l'image qu'on veut modifier\n",
    "    #ligne, la hauteur \n",
    "    #colstart, colend ; de où à où\n",
    "    #quand on les spécifie pas, en mettant \"None\", ça veut dire ça continue jusqu'à la fin de l'image  \n",
    "    larg, haut = img.size \n",
    "    if colstart == None:\n",
    "        colstart = 0         #si on imagine une image de taille 10x10, ça commence à 0 (le colstart)\n",
    "    if colend == None:\n",
    "        colend = larg     # et ici colend = 10, alors que la dernère coordonnée c'est (9,9)\n",
    "    for x in range(colstart, colend): #ça ne pose pas de problèmes car la fonction range n'inclut pas le dernier élément \n",
    "        img.putpixel((x, ligne), color)"
   ]
  },
  {
   "cell_type": "code",
   "execution_count": null,
   "metadata": {},
   "outputs": [],
   "source": [
    "def Vseg(img,colonne, lignestart = None , ligneend = None, color = (255,255,255)):\n",
    "    \"\"\"\n",
    "    Fonction pour les lignes verticales\n",
    "    \"\"\"\n",
    "    larg, haut = img.size \n",
    "    if lignestart == None:\n",
    "        lignestart = 0\n",
    "    if ligneend == None:\n",
    "        ligneend = larg\n",
    "    for x in range(lignestart, ligneend):\n",
    "        img.putpixel((colonne, x), color)"
   ]
  },
  {
   "cell_type": "code",
   "execution_count": null,
   "metadata": {},
   "outputs": [],
   "source": [
    "#avec les fonctions Hseg et Vseg, on peut créer la fonction separatorMdl pour placer les modules séparateurs\n",
    "def separatorMdl(img):\n",
    "    \"\"\"\n",
    "    Fonction pour les séparateurs\n",
    "    \"\"\"\n",
    "    #séparateur du carré en haut à gauche.\n",
    "    Hseg(img,7,0,8)\n",
    "    Vseg(img,7,0,8)\n",
    "    #séprateur du carré en haut à droite    \n",
    "    Hseg(img,7,13,21)\n",
    "    Vseg(img,13,0,8) \n",
    "    #séprateur du carré en bas à gauche    \n",
    "    Hseg(img,13,0,8)\n",
    "    Vseg(img,7,13,21)"
   ]
  },
  {
   "cell_type": "code",
   "execution_count": null,
   "metadata": {},
   "outputs": [],
   "source": [
    "\n",
    "def timingMdl(img):\n",
    "    \"\"\"\n",
    "    Fonction pour les modules de cadencement\n",
    "        - 1 segment verticale\n",
    "        - 1 segment horizontale\n",
    "    \"\"\"\n",
    "    #segment horizontale\n",
    "    img.putpixel((8,6), (0,0,0))\n",
    "    img.putpixel((9,6), (255,255,255))\n",
    "    img.putpixel((10,6), (0,0,0))\n",
    "    img.putpixel((11,6), (255,255,255))\n",
    "    img.putpixel((12,6), (0,0,0))\n",
    "    #segment verticale\n",
    "    img.putpixel((6,8), (0,0,0))\n",
    "    img.putpixel((6,9), (255,255,255))\n",
    "    img.putpixel((6,10), (0,0,0))\n",
    "    img.putpixel((6,11), (255,255,255))\n",
    "    img.putpixel((6,12), (0,0,0))\n",
    "    "
   ]
  },
  {
   "cell_type": "code",
   "execution_count": null,
   "metadata": {},
   "outputs": [],
   "source": [
    "#exercice de l'étape 3\n",
    "def formatMdl(img):\n",
    "    \"\"\"\n",
    "    Fonction qui va mettre les modules de format sur notre image \n",
    "        - Il y aura 1 ligne verticale\n",
    "        - Et 1 horizontale\n",
    "    \"\"\"    \n",
    "    #partie verticale\n",
    "    img.putpixel((8,0), (0,0,0))\n",
    "    img.putpixel((8,1), (255,255,255))\n",
    "    img.putpixel((8,2), (0,0,0))\n",
    "    img.putpixel((8,3), (0,0,0))\n",
    "    img.putpixel((8,4), (0,0,0))\n",
    "    img.putpixel((8,5), (255,255,255))\n",
    "    img.putpixel((8,7), (255,255,255))\n",
    "    img.putpixel((8,8), (0,0,0))\n",
    "    img.putpixel((8,13),(0,0,0))\n",
    "    img.putpixel((8,14), (255,255,255))\n",
    "    img.putpixel((8,15), (255,255,255))\n",
    "    img.putpixel((8,16), (255,255,255))\n",
    "    img.putpixel((8,17), (0,0,0))\n",
    "    img.putpixel((8,18), (0,0,0))\n",
    "    img.putpixel((8,19), (0,0,0))\n",
    "    img.putpixel((8,20), (0,0,0)) \n",
    "    \n",
    "    #partie horizontale\n",
    "    img.putpixel((20,8), (0,0,0))\n",
    "    img.putpixel((19,8), (255,255,255))\n",
    "    img.putpixel((18,8), (0,0,0))\n",
    "    img.putpixel((17,8), (0,0,0))\n",
    "    img.putpixel((16,8), (0,0,0))\n",
    "    img.putpixel((15,8), (255,255,255))\n",
    "    img.putpixel((14,8), (255,255,255))\n",
    "    img.putpixel((13,8), (0,0,0))\n",
    "    img.putpixel((8,8), (0,0,0))\n",
    "    img.putpixel((7,8), (255,255,255))\n",
    "    img.putpixel((5,8), (255,255,255))\n",
    "    img.putpixel((4,8), (255,255,255))\n",
    "    img.putpixel((3,8), (0,0,0))\n",
    "    img.putpixel((2,8), (0,0,0))\n",
    "    img.putpixel((1,8), (0,0,0))\n",
    "    img.putpixel((0,8), (0,0,0))"
   ]
  },
  {
   "cell_type": "code",
   "execution_count": null,
   "metadata": {},
   "outputs": [],
   "source": [
    "#Code pour faire le QR code avec le module de format:\n",
    "couleur = (128,128,128)\n",
    "dimensions = (21,21)\n",
    "img = Image.new(\"RGB\",dimensions , couleur)\n",
    "draw = ImageDraw.Draw(img)\n",
    "#premier carré en haut à gauche\n",
    "draw.rectangle(((0,0),(6,6)), fill=(0,0,0))\n",
    "draw.rectangle(((1,1),(5,5,)), fill=(255,255,255))\n",
    "draw.rectangle(((2,2),(4,4)), fill=(0,0,0))\n",
    "#deuxieme carré en haut à droite\n",
    "draw.rectangle(((20,0),(14,6)), fill=(0,0,0))\n",
    "draw.rectangle(((19,1),(15,5,)), fill=(255,255,255))\n",
    "draw.rectangle(((18,2),(16,4)), fill=(0,0,0))\n",
    "#troisieme carré en bas à gauche\n",
    "draw.rectangle(((0,20),(6,14)), fill=(0,0,0))\n",
    "draw.rectangle(((1,19),(5,15,)), fill=(255,255,255))\n",
    "draw.rectangle(((2,18),(4,16)), fill=(0,0,0))\n",
    "\n",
    "separatorMdl(img)\n",
    "timingMdl(img)\n",
    "formatMdl(img)\n",
    "#img.show()"
   ]
  },
  {
   "cell_type": "code",
   "execution_count": null,
   "metadata": {},
   "outputs": [],
   "source": [
    "#Raccourci pour ne pas reécrire à chaque fois\n",
    "def QRCode(img):\n",
    "    \"\"\"\n",
    "    Fonction pour crée notre QR code avec les 3 carrés\n",
    "    \"\"\"\n",
    "    couleur = (255,255,255)\n",
    "    dimensions = (21,21)\n",
    "    img = Image.new(\"RGB\",dimensions , couleur)\n",
    "    draw = ImageDraw.Draw(img)\n",
    "    #1er carré, en haute à gauche\n",
    "    draw.rectangle(((0,0),(6,6)), fill=(0,0,0))   #d'abord on fait un carré et on rempli en noir\n",
    "    draw.rectangle(((1,1),(5,5,)), fill=(255,255,255)) #ensuite on faite un carré blanc\n",
    "    draw.rectangle(((2,2),(4,4)), fill=(0,0,0))   #ensuite le dernier carré noir\n",
    "    #2ème carré en haute à droite\n",
    "    draw.rectangle(((20,0),(14,6)), fill=(0,0,0))\n",
    "    draw.rectangle(((19,1),(15,5,)), fill=(255,255,255))\n",
    "    draw.rectangle(((18,2),(16,4)), fill=(0,0,0))\n",
    "    #3ème carré en bas à gauche\n",
    "    draw.rectangle(((0,20),(6,14)), fill=(0,0,0))\n",
    "    draw.rectangle(((1,19),(5,15,)), fill=(255,255,255))\n",
    "    draw.rectangle(((2,18),(4,16)), fill=(0,0,0))"
   ]
  },
  {
   "cell_type": "code",
   "execution_count": null,
   "metadata": {},
   "outputs": [],
   "source": [
    "def Finale(img):\n",
    "    QRCode(img)\n",
    "    separatorMdl(img)\n",
    "    timingMdl(img)\n",
    "    formatMdl(img)\n",
    "    img.show()"
   ]
  },
  {
   "cell_type": "code",
   "execution_count": null,
   "metadata": {},
   "outputs": [],
   "source": [
    "#Finale(img) #juste pour voir ce que ça donne en ayant raccourci "
   ]
  },
  {
   "cell_type": "markdown",
   "metadata": {},
   "source": [
    "# Tout ce qui y a avant c'est jusqu'au placement de module à l'étape 3"
   ]
  },
  {
   "cell_type": "markdown",
   "metadata": {},
   "source": [
    "## Maintenant on va créer le code finale pour que le qr code ait notre message"
   ]
  },
  {
   "cell_type": "code",
   "execution_count": null,
   "metadata": {},
   "outputs": [],
   "source": [
    "#Fonction donné par le prof à l'étape 3\n",
    "def masque(x,y,bit):\n",
    "    if (x+y) %3 == 0:\n",
    "        if bit == '0':\n",
    "            return '1'\n",
    "        else:\n",
    "            return '0'\n",
    "    else:\n",
    "        return bit"
   ]
  },
  {
   "cell_type": "code",
   "execution_count": null,
   "metadata": {},
   "outputs": [],
   "source": [
    "import qr"
   ]
  },
  {
   "cell_type": "code",
   "execution_count": null,
   "metadata": {},
   "outputs": [],
   "source": [
    "#Exemple de tranches d'éléments\n",
    "#a = \"000010100111\"        \n",
    "#a.split()\n",
    "#for i in range(2):  #au total il y aura 2 fois montée-descente\n",
    "#    print(\"Colonne qui monte n°{0}\".format(i+1))#indicateur de colonne \n",
    "#    for j in a[0+6*i:3+6*i]:\n",
    "#        print(j)\n",
    "#    print(\"Colonne qui descent n°{0}\".format(i+1))#indicateur de colonne \n",
    "#    for j in a[3+6*i:6+6*i]:\n",
    "#        print(j)"
   ]
  },
  {
   "cell_type": "code",
   "execution_count": null,
   "metadata": {
    "scrolled": true
   },
   "outputs": [],
   "source": [
    "def montee(img,x,y,tranche):\n",
    "    \"\"\"\n",
    "    La fonction pour les colonnes montantes \n",
    "    \"\"\"\n",
    "    for i in tranche:\n",
    "        i = masque(x,y,i)#fonction donner par le prof à l'étape 3\n",
    "        if x>=7:  #à partir de la colonne 7, c'est \"normal\": puisqu'on commence tout en bas à droite (20,20)\n",
    "            a = 0 \n",
    "        else:     #mais après avoir atteint la colonne 7 (depuis la droite), la parité va changer\n",
    "            a = 1  # -> c'est pour ça on met a = 1, pour décaler\n",
    "        if (x+a)%2 == 0:  #SI c'est pair\n",
    "            if i == \"0\": #et si le bit est 0\n",
    "                z = (255,255,255)   #la couleur est blanc\n",
    "                img.putpixel((x,y),z)  #et on met un pixel blanc\n",
    "            elif i == \"1\":  #sinon si le bit est 1\n",
    "                z = (0,0,0)  #la couleur est noir\n",
    "                img.putpixel((x,y),z) \n",
    "            x = x - 1    #et aussi, si c'est pair, en décale d'une colonne à gauche\n",
    "        \n",
    "        elif (x+a)%2 != 0:    #Ensuite si c'est impair\n",
    "            if i == \"0\":    #la couleur, et le chiffre reste pareil, la fonction masque a aussi été pris en compte au début \n",
    "                z = (255,255,255)\n",
    "                img.putpixel((x,y),z)\n",
    "            elif i == \"1\":\n",
    "                z = (0,0,0)\n",
    "                img.putpixel((x,y),z)\n",
    "            x = x + 1   #si c'est impair, on écale d'une colonne à droite\n",
    "            y = y - 1   #et on monte d'une ligne\n"
   ]
  },
  {
   "cell_type": "code",
   "execution_count": null,
   "metadata": {},
   "outputs": [],
   "source": [
    "def descente(img,x,y,tranche): \n",
    "    \"\"\" \n",
    "    La fonction pour les colonnes descendantes \n",
    "    \"\"\"\n",
    "    for i in tranche:\n",
    "        i = masque(x,y,i)#fonction donner par le prof à l'étape 3\n",
    "        if x >=7:   #même chose qu'avant\n",
    "            a=0\n",
    "        else:\n",
    "            a=1\n",
    "        if (x+a)%2 == 0:  #SI c'est pair\n",
    "            if i == \"0\": #et si le bit est 0\n",
    "                z = (255,255,255)   #la couleur est blanc\n",
    "                img.putpixel((x,y),z)  #et on met un pixel blanc\n",
    "            elif i == \"1\":  #sinon si le bit est 1\n",
    "                z = (0,0,0)  #la couleur est noir\n",
    "                img.putpixel((x,y),z) \n",
    "            x = x -1    #et aussi, si c'est pair, en décale d'une colonne à gauche\n",
    "        \n",
    "        elif (x+a)%2 != 0:    #Ensuite si c'est impair\n",
    "            if i == \"0\":    #la couleur, et le chiffre reste pareil, la fonction masque a aussi été pris en compte au début \n",
    "                z = (255,255,255)\n",
    "                img.putpixel((x,y),z)\n",
    "            elif i == \"1\":\n",
    "                z = (0,0,0)\n",
    "                img.putpixel((x,y),z)\n",
    "            x = x + 1   #si c'est impair, on décale d'une colonne à droite\n",
    "            y = y + 1   #et on descend d'une ligne\n",
    "   "
   ]
  },
  {
   "cell_type": "code",
   "execution_count": null,
   "metadata": {},
   "outputs": [],
   "source": [
    "def code(img,message): \n",
    "    \"\"\"\n",
    "    La fonction finale qui va placer les bits du message codé dans le QR code\n",
    "        - Elle va codé notre message en bit, chaîne de caractère composé de 0 et 1\n",
    "        - Elle va mettre les bits uniquement dans les zones grises \n",
    "        - Elle va le faire en plusieurs tranches \n",
    "        - 208 bits au total\n",
    "        \n",
    "    \"\"\"\n",
    "    msg = qr.message2bits(message) #le code qui va crypté notre message en bit, donné par le prof aussi\n",
    "    msg.split()#sépare tous les bits: important pour faire les tranches de bits\n",
    "\n",
    "    \n",
    "    tranche_bit = msg[0:24]    #1ers 24 bits, du premier point (20,20), on va remplir les 2 premières colonnes\n",
    "    montee(img,20,20, tranche_bit)  #donc ça commence à (20,20) et s'arrête à (19,9)\n",
    "    \n",
    "    tranche_bit = msg[24:48]   #les 24 prochains bits seront pout les colonnes descendantes\n",
    "    descente(img,18,9, tranche_bit) #de la coordonnée (18,9) à (17,20)\n",
    "    \n",
    "    tranche_bit = msg[48:72]   #à nouveau montante\n",
    "    montee(img,16,20, tranche_bit) #de (16,20) à (15,9)\n",
    "    \n",
    "    tranche_bit = msg[72:96] \n",
    "    descente(img,14,9, tranche_bit) #de (14,9) à 13(20)\n",
    "    #On a fini la 1ère \"tranche\", un rectangle de taille 8x12 : \n",
    "    # colonnes 13-20 et lignes 9-20\n",
    "    \n",
    "    \n",
    "    #Prochaine tranche\n",
    "    tranche_bit = msg[96:124]#on continue avec les bits de 96 à 124, cette fois 28 bits, colonnes montantes\n",
    "    montee(img,12,20, tranche_bit) #de (12,20) à (11,7)\n",
    "    \n",
    "    #ici il y aura une séparation: le segment verticale fait avec la fonction timingMdl\n",
    "    tranche_bit = msg[124:136] #on continue donc avec une colonne montante mais de 12 bits\n",
    "    montee(img,12,5, tranche_bit) #de (12,5) à (11,0)\n",
    "    \n",
    "    tranche_bit = msg[136:148] #ensuite on passe à la colonne descendante, depuis le haut, avec 12 bits\n",
    "    descente(img,10,0, tranche_bit) #de (10,0) à (9,5)\n",
    "    \n",
    "    tranche_bit = msg[148:176] #et on retombe sur la longue colonne (descendante) de 28 bits\n",
    "    descente(img,10,7, tranche_bit) #de (10,7) à (9,20)\n",
    "    #on a ainsi fini la 2ème tranche (composé de 2 rectangles) de taille 4x21\n",
    "    \n",
    "    \n",
    "    #dernière tranche\n",
    "    tranche_bit = msg[176:184] #cette fois seulement 8 bits, colonne montante\n",
    "    montee(img,8,12, tranche_bit) #de (8,12) à (7,9)\n",
    "    \n",
    "    #une autre séparation: cette fois un segment verticale\n",
    "    tranche_bit = msg[184:192] #8 bits, colonne descendante\n",
    "    descente(img,5,9, tranche_bit) #de (5,9) à (4,12)\n",
    "    \n",
    "    tranche_bit = msg[192:200] #dernière colonne montante, 8 bits\n",
    "    montee(img,3,12, tranche_bit) #de (3,12) à (2,9)\n",
    "    \n",
    "    tranche_bit = msg[200:208] #dernière colonne descendante, 8 bits\n",
    "    descente(img,1,9, tranche_bit) #de (1,9) à (0,12)        \n",
    "    "
   ]
  },
  {
   "cell_type": "code",
   "execution_count": null,
   "metadata": {
    "scrolled": true
   },
   "outputs": [],
   "source": [
    "code(img, \"J'ai fini Mec!\")"
   ]
  },
  {
   "cell_type": "code",
   "execution_count": null,
   "metadata": {},
   "outputs": [],
   "source": [
    "img.show()"
   ]
  }
 ],
 "metadata": {
  "kernelspec": {
   "display_name": "Python 3",
   "language": "python",
   "name": "python3"
  },
  "language_info": {
   "codemirror_mode": {
    "name": "ipython",
    "version": 3
   },
   "file_extension": ".py",
   "mimetype": "text/x-python",
   "name": "python",
   "nbconvert_exporter": "python",
   "pygments_lexer": "ipython3",
   "version": "3.8.8"
  },
  "latex_envs": {
   "LaTeX_envs_menu_present": true,
   "autoclose": false,
   "autocomplete": true,
   "bibliofile": "biblio.bib",
   "cite_by": "apalike",
   "current_citInitial": 1,
   "eqLabelWithNumbers": true,
   "eqNumInitial": 1,
   "hotkeys": {
    "equation": "Ctrl-E",
    "itemize": "Ctrl-I"
   },
   "labels_anchors": false,
   "latex_user_defs": false,
   "report_style_numbering": false,
   "user_envs_cfg": false
  },
  "toc": {
   "base_numbering": 1,
   "nav_menu": {},
   "number_sections": true,
   "sideBar": true,
   "skip_h1_title": false,
   "title_cell": "Table of Contents",
   "title_sidebar": "Contents",
   "toc_cell": false,
   "toc_position": {},
   "toc_section_display": true,
   "toc_window_display": false
  }
 },
 "nbformat": 4,
 "nbformat_minor": 4
}
